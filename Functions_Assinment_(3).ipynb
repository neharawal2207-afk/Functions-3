{
  "nbformat": 4,
  "nbformat_minor": 0,
  "metadata": {
    "colab": {
      "provenance": []
    },
    "kernelspec": {
      "name": "python3",
      "display_name": "Python 3"
    },
    "language_info": {
      "name": "python"
    }
  },
  "cells": [
    {
      "cell_type": "markdown",
      "source": [
        "# **Functions Assingment **"
      ],
      "metadata": {
        "id": "f_Ov9qE8KnYe"
      }
    },
    {
      "cell_type": "markdown",
      "source": [
        "**Theory Questions:**\n"
      ],
      "metadata": {
        "id": "vquZ0DyZKlYh"
      }
    },
    {
      "cell_type": "markdown",
      "source": [
        "# **Q1. What is the difference between a function and a method in Python?**"
      ],
      "metadata": {
        "id": "v4zgemAAPcUw"
      }
    },
    {
      "cell_type": "markdown",
      "source": [
        "Difference between Function and Method in Python:\n",
        "\n",
        "**Function**\n",
        "\n",
        "A function is a block of reusable code that is defined using the def keyword.\n",
        "\n",
        "It can exist independently (outside of a class).\n",
        "\n",
        "It is called directly using its name.\n",
        "\n",
        "**Method**\n",
        "\n",
        "A method is also a function, but it is defined inside a class.\n",
        "\n",
        "It is associated with an object (instance of a class).\n",
        "\n",
        "It is called using the dot (.) operator on an object.\n",
        "\n",
        "\n",
        "**Function: **Defined outside a class, called directly.\n",
        "\n",
        "Method: Defined inside a class, called using an object.\n",
        "\n",
        " **Example:**"
      ],
      "metadata": {
        "id": "ukvCF6TGTX_Z"
      }
    },
    {
      "cell_type": "code",
      "source": [
        "# Function (independent)\n",
        "def greet(name):\n",
        "    return f\"Hello, {name}!\"\n",
        "\n",
        "print(greet(\"Neha\"))   # Calling a function\n",
        "\n",
        "\n",
        "# Method (inside a class)\n",
        "\n",
        "class Person:\n",
        "    def __init__(self, name):\n",
        "        self.name = name\n",
        "\n",
        "    # This is a method\n",
        "    def greet(self):\n",
        "        return f\"Hello, {self.name}!\"\n",
        "\n",
        "\n",
        "p = Person(\"Neha\")\n",
        "print(p.greet())   # Calling a method using object"
      ],
      "metadata": {
        "colab": {
          "base_uri": "https://localhost:8080/"
        },
        "id": "jaM7MOUxSsZs",
        "outputId": "3231cd26-10cd-4e15-f1bc-bab9b80f6f18"
      },
      "execution_count": null,
      "outputs": [
        {
          "output_type": "stream",
          "name": "stdout",
          "text": [
            "Hello, Neha!\n",
            "Hello, Neha!\n"
          ]
        }
      ]
    },
    {
      "cell_type": "markdown",
      "source": [
        "# **Q2. Explain the concept of function arguments and parameters in Python.**"
      ],
      "metadata": {
        "id": "NzKdEqEQUOF2"
      }
    },
    {
      "cell_type": "markdown",
      "source": [
        "In Python, parameters and arguments are related but slightly different concepts:\n",
        "\n",
        "Parameters are the variables defined inside the function header. They act as placeholders for the values the function will receive.\n",
        "\n",
        "Arguments are the actual values or data you pass to a function when calling it.\n",
        "\n",
        "\n",
        "**Parameters** = variables inside the function definition\n",
        "\n",
        "**Arguments **= values passed during function call\n",
        "\n",
        "**Example1:**"
      ],
      "metadata": {
        "id": "fKdRUSWMUwXL"
      }
    },
    {
      "cell_type": "code",
      "source": [
        "# Function definition with parameters\n",
        "def greet(name, age):\n",
        "    print(f\"Hello {name}, you are {age} years old.\")\n",
        "\n",
        "# Function call with arguments\n",
        "greet(\"Neha\", 21)"
      ],
      "metadata": {
        "colab": {
          "base_uri": "https://localhost:8080/"
        },
        "id": "FCrnbA03U7mr",
        "outputId": "9ff7671d-9725-4de1-9643-26e6759a4490"
      },
      "execution_count": null,
      "outputs": [
        {
          "output_type": "stream",
          "name": "stdout",
          "text": [
            "Hello Neha, you are 21 years old.\n"
          ]
        }
      ]
    },
    {
      "cell_type": "markdown",
      "source": [
        "Here, name and age are parameters (defined in the function).\n",
        "\n",
        "\"Neha\" and 21 are arguments (passed during the function call)."
      ],
      "metadata": {
        "id": "Qn41uP2lVAIN"
      }
    },
    {
      "cell_type": "markdown",
      "source": [
        "# **Q3. What are the different ways to define and call a function in Python?**"
      ],
      "metadata": {
        "id": "onvfBq-8WPFM"
      }
    },
    {
      "cell_type": "markdown",
      "source": [
        "In Python, parameters and arguments are related but slightly different concepts:\n",
        "\n",
        "Parameters → Variables that are defined inside the function definition. They act as placeholders for the values the function will receive.\n",
        "\n",
        "**Arguments** → Actual values or data you pass to the function when calling it.\n",
        "\n",
        "**Example 1:**"
      ],
      "metadata": {
        "id": "zeNOJPizY-wu"
      }
    },
    {
      "cell_type": "code",
      "source": [
        "# Function definition with parameters\n",
        "\n",
        "def greet(name, age):\n",
        "    print(f\"Hello {name}, you are {age} years old.\")\n",
        "\n",
        "# Function call with arguments\n",
        "greet(\"Neha\", 21)"
      ],
      "metadata": {
        "colab": {
          "base_uri": "https://localhost:8080/"
        },
        "id": "bnRRh7gdZDXz",
        "outputId": "81ebf3b4-faca-4928-f2c5-e307d8db9c31"
      },
      "execution_count": null,
      "outputs": [
        {
          "output_type": "stream",
          "name": "stdout",
          "text": [
            "Hello Neha, you are 21 years old.\n"
          ]
        }
      ]
    },
    {
      "cell_type": "markdown",
      "source": [
        "name and age → parameters (defined in the function).\n",
        "\n",
        "\"Neha\" and 21 → arguments (values passed when calling the function).\n",
        "\n",
        "So, parameters are like empty boxes in the function, and arguments are the actual items you put into those boxes when using the function."
      ],
      "metadata": {
        "id": "tdaLLQ1NYSJD"
      }
    },
    {
      "cell_type": "markdown",
      "source": [
        "# **Q4. What is the purpose of the `return` statement in a Python function?**"
      ],
      "metadata": {
        "id": "33VmQo8NZstQ"
      }
    },
    {
      "cell_type": "markdown",
      "source": [
        "The return statement in a Python function is used to send a value (or multiple values) back to the caller.\n",
        "It ends the functions execution and provides the result that the function computes.\n",
        "\n",
        "If you dont use return, the function will return None by default.\n",
        "\n",
        "\n",
        "Example1:"
      ],
      "metadata": {
        "id": "i6U-u4wnZ5tP"
      }
    },
    {
      "cell_type": "code",
      "source": [
        "def add_numbers(a, b):\n",
        "\n",
        "    result = a + b\n",
        "    return result  # sends the result back to the caller\n",
        "\n",
        "# Calling the function\n",
        "sum_value = add_numbers(5, 7)\n",
        "print(\"The sum is:\", sum_value)\n",
        "sum_value = add_numbers(5, 7)\n",
        "print(\"The sum is:\", sum_value)"
      ],
      "metadata": {
        "colab": {
          "base_uri": "https://localhost:8080/"
        },
        "id": "UR7YGxH-ajs2",
        "outputId": "01eaea51-983e-4c14-cb14-eeb9525875c5"
      },
      "execution_count": null,
      "outputs": [
        {
          "output_type": "stream",
          "name": "stdout",
          "text": [
            "The sum is: 12\n",
            "The sum is: 12\n"
          ]
        }
      ]
    },
    {
      "cell_type": "markdown",
      "source": [
        "Here, the return statement sends the value 12 back, which gets stored in sum_value."
      ],
      "metadata": {
        "id": "tsKuGILIawHO"
      }
    },
    {
      "cell_type": "markdown",
      "source": [
        "# **Q5 What are iterators in Python and how do they differ from iterables?**"
      ],
      "metadata": {
        "id": "-TWbOEoSax5h"
      }
    },
    {
      "cell_type": "markdown",
      "source": [
        "Iterable\n",
        "\n",
        "An iterable is any Python object capable of returning its members one at a time.\n",
        "\n",
        "Examples: list, tuple, string, set, dictionary.\n",
        "\n",
        "It implements the __iter__() method, which returns an iterator.\n",
        "\n",
        "Iterator\n",
        "\n",
        "An iterator is an object that actually goes through (iterates) the elements of an iterable one at a time.\n",
        "\n",
        "It implements both:\n",
        "\n",
        "__iter__() (returns itself)\n",
        "\n",
        "__next__() (returns the next item, or raises StopIteration when done).\n",
        "\n",
        "\n",
        "Iterable = a collection you can loop over.\n",
        "\n",
        "Iterator = the mechanism that fetches elements from the iterable one by one."
      ],
      "metadata": {
        "id": "8r2qVxtqa9N1"
      }
    },
    {
      "cell_type": "code",
      "source": [
        "# 1 Example\n",
        "\n",
        "\n",
        "# An iterable\n",
        "my_list = [10, 20, 30]\n",
        "\n",
        "# Converting iterable into an iterator\n",
        "my_iterator = iter(my_list)\n",
        "\n",
        "# Accessing elements using iterator\n",
        "print(next(my_iterator))  # 10\n",
        "print(next(my_iterator))  # 20\n",
        "print(next(my_iterator))  # 30\n",
        "\n",
        "# If we call again, it will raise StopIteration\n",
        "# print(next(my_iterator))"
      ],
      "metadata": {
        "colab": {
          "base_uri": "https://localhost:8080/"
        },
        "id": "u_g9-gf3bUk-",
        "outputId": "10d9777b-84c0-4f24-d97b-c9c1070767e2"
      },
      "execution_count": null,
      "outputs": [
        {
          "output_type": "stream",
          "name": "stdout",
          "text": [
            "10\n",
            "20\n",
            "30\n"
          ]
        }
      ]
    },
    {
      "cell_type": "markdown",
      "source": [
        "my_list is iterable.\n",
        "\n",
        "my_iterator is an iterator that goes through elements one by one."
      ],
      "metadata": {
        "id": "NlMzlvsWbkjg"
      }
    },
    {
      "cell_type": "markdown",
      "source": [
        "# **Q6. Explain the concept of generators in Python and how they are defined.**"
      ],
      "metadata": {
        "id": "Eq4vOzQtbmh6"
      }
    },
    {
      "cell_type": "markdown",
      "source": [
        "How Generators are Defined\n",
        "\n",
        "There are two main ways to define a generator:\n",
        "\n",
        "Using a function with the yield keyword\n",
        "\n",
        "A normal function that contains yield becomes a generator function.\n",
        "\n",
        "Instead of returning all results at once, it yields one result at a time.\n",
        "\n",
        "Each call to next() resumes execution from where it left off.\n",
        "\n",
        "Using generator expressions (similar to list comprehensions but with () instead of []).\n",
        "\n",
        "Example 1: Generator Function"
      ],
      "metadata": {
        "id": "wEgfUTE4b72P"
      }
    },
    {
      "cell_type": "code",
      "source": [
        "def number_generator(n):\n",
        "    for i in range(1, n+1):\n",
        "        yield i   # yields values one by one\n",
        "\n",
        "gen = number_generator(5)\n",
        "\n",
        "for num in gen:\n",
        "    print(num)"
      ],
      "metadata": {
        "colab": {
          "base_uri": "https://localhost:8080/"
        },
        "id": "a2mGrN6gcCBp",
        "outputId": "47f335bd-7f93-4ac4-b85b-536cb27c6483"
      },
      "execution_count": null,
      "outputs": [
        {
          "output_type": "stream",
          "name": "stdout",
          "text": [
            "1\n",
            "2\n",
            "3\n",
            "4\n",
            "5\n"
          ]
        }
      ]
    },
    {
      "cell_type": "markdown",
      "source": [
        "The function doesn’t return a list; instead, it produces numbers one at a time.\n",
        "\n",
        "This saves memory compared to returning [1, 2, 3, 4, 5]."
      ],
      "metadata": {
        "id": "W5WNU6lzcHBS"
      }
    },
    {
      "cell_type": "markdown",
      "source": [],
      "metadata": {
        "id": "sm0mAqh3buuk"
      }
    },
    {
      "cell_type": "markdown",
      "source": [
        "# **Q7. What are the advantages of using generators over regular functions?**"
      ],
      "metadata": {
        "id": "Q-L8JzzvcLaC"
      }
    },
    {
      "cell_type": "markdown",
      "source": [
        "\n",
        "A lambda function in Python is a small, anonymous (unnamed) function defined using the keyword lambda.\n",
        "It can have any number of arguments but only one expression, and it automatically returns the result of that expression.\n",
        "\n",
        "## **Syntax:**\n",
        "\n",
        "**lambda arguments**: expression\n",
        "\n",
        "**When to use**:\n",
        "\n",
        "When you need a short, throwaway function.\n",
        "\n",
        "Often used with functions like map(), filter(), and sorted().\n",
        "\n",
        "Useful when defining a function inline instead of writing a full def block."
      ],
      "metadata": {
        "id": "em9VMchwcQN3"
      }
    },
    {
      "cell_type": "code",
      "source": [
        "# Lambda function to add two numbers\n",
        "add = lambda x, y: x + y\n",
        "\n",
        "print(add(5, 3))  # Output: 8"
      ],
      "metadata": {
        "colab": {
          "base_uri": "https://localhost:8080/"
        },
        "id": "N1ikVvBnc1jE",
        "outputId": "c6024eb5-d3e2-41a4-f5d2-fb398e315865"
      },
      "execution_count": null,
      "outputs": [
        {
          "output_type": "stream",
          "name": "stdout",
          "text": [
            "8\n"
          ]
        }
      ]
    },
    {
      "cell_type": "markdown",
      "source": [
        "Here, lambda x, y: x + y creates a quick function that adds two numbers without using def."
      ],
      "metadata": {
        "id": "mLZqeeXKc96u"
      }
    },
    {
      "cell_type": "markdown",
      "source": [
        "# **Q8. What is a lambda function in Python and when is it typically used?**"
      ],
      "metadata": {
        "id": "Gh_7t4zfkwCb"
      }
    },
    {
      "cell_type": "markdown",
      "source": [],
      "metadata": {
        "id": "bUgJnKr5dABQ"
      }
    },
    {
      "cell_type": "markdown",
      "source": [
        "A lambda function in Python is a small, anonymous function defined using the keyword lambda. Unlike regular functions created with def, a lambda function is typically used for short, simple operations where defining a full function would be unnecessary.\n",
        "\n",
        "**Syntax:**\n",
        "\n",
        "**lambda arguments:** expression\n",
        "\n",
        "\n",
        "It can take any number of arguments but has only one expression.\n",
        "\n",
        "The result of the expression is returned automatically.\n",
        "\n",
        "Typical uses of lambda functions:\n",
        "\n",
        "As a short helper function inside higher-order functions like map(), filter(), or sorted().\n",
        "\n",
        "When you need a quick function for a short duration."
      ],
      "metadata": {
        "id": "FyBRI7Z5lNnW"
      }
    },
    {
      "cell_type": "code",
      "source": [
        "# Example1:\n",
        "\n",
        "# Using lambda with sorted() to sort by the second element in a tuple\n",
        "pairs = [(1, 'apple'), (3, 'banana'), (2, 'cherry')]\n",
        "\n",
        "# Sort based on the number (first element)\n",
        "sorted_pairs = sorted(pairs, key=lambda x: x[0])\n",
        "\n",
        "print(sorted_pairs)"
      ],
      "metadata": {
        "colab": {
          "base_uri": "https://localhost:8080/"
        },
        "id": "wSMis7BrlWSo",
        "outputId": "de77e5d5-64c2-4fd6-969a-46c61269c6cf"
      },
      "execution_count": null,
      "outputs": [
        {
          "output_type": "stream",
          "name": "stdout",
          "text": [
            "[(1, 'apple'), (2, 'cherry'), (3, 'banana')]\n"
          ]
        }
      ]
    },
    {
      "cell_type": "markdown",
      "source": [
        "Here, lambda x: x[0] is a lambda function that extracts the first element of each tuple for sorting."
      ],
      "metadata": {
        "id": "ZTfOi8C-llV8"
      }
    },
    {
      "cell_type": "markdown",
      "source": [
        "# **9. Explain the purpose and usage of the `map()` function in Python**"
      ],
      "metadata": {
        "id": "WzMinn2Slm0a"
      }
    },
    {
      "cell_type": "markdown",
      "source": [
        "\n",
        "\n",
        "The map() function in Python is used to apply a function to each item in an iterable (like a list, tuple, or set) and return a map object (an iterator).\n",
        "\n",
        "Purpose\n",
        "\n",
        "It helps avoid writing explicit loops.\n",
        "\n",
        "Makes code more concise and readable.\n",
        "\n",
        "Useful when the same operation needs to be applied to all elements of a sequence.\n",
        "\n",
        "Syntax\n",
        "map(function, iterable)\n",
        "\n",
        "\n",
        "function: A function to apply to each element.\n",
        "\n",
        "iterable: The data structure (list, tuple, etc.) whose items will be processed"
      ],
      "metadata": {
        "id": "tt1fwV5TmBnO"
      }
    },
    {
      "cell_type": "markdown",
      "source": [
        "function: A function to apply to each element.\n",
        "\n",
        "iterable: The data structure (list, tuple, etc.) whose items will be processed."
      ],
      "metadata": {
        "id": "X3kuX09_mMD2"
      }
    },
    {
      "cell_type": "code",
      "source": [
        "# Example1\n",
        "\n",
        "# Square each number in a list using map()\n",
        "numbers = [1, 2, 3, 4, 5]\n",
        "\n",
        "squared = map(lambda x: x**2, numbers)\n",
        "\n",
        "print(list(squared))"
      ],
      "metadata": {
        "colab": {
          "base_uri": "https://localhost:8080/"
        },
        "id": "CzKqysZhmT3n",
        "outputId": "721d4638-f608-4993-dd37-6b6e268dd2ee"
      },
      "execution_count": null,
      "outputs": [
        {
          "output_type": "stream",
          "name": "stdout",
          "text": [
            "[1, 4, 9, 16, 25]\n"
          ]
        }
      ]
    },
    {
      "cell_type": "markdown",
      "source": [
        "Here, lambda x: x**2 is applied to each element of numbers, and map() returns an iterator which is converted into a list."
      ],
      "metadata": {
        "id": "Q_J4arM1msE3"
      }
    },
    {
      "cell_type": "markdown",
      "source": [
        "**Q10. What is the difference between `map()`, `reduce()`, and `filter()` functions in Python?**"
      ],
      "metadata": {
        "id": "5T_bXYNWmtxp"
      }
    },
    {
      "cell_type": "markdown",
      "source": [
        "# **Function**\n",
        "\n",
        "# **Purpose**\n",
        "\n",
        "**map()** :  Applies a function to each item of an iterable.\n",
        "\n",
        "**filter()** : Applies a function that returns True/False to each item, keeping only items where the function is True.\n",
        "\n",
        "**reduce() (from functools)** : Repeatedly applies a function to the elements, reducing them to a single cumulative value.\n",
        "\n",
        "\n",
        "# **Returns**\n",
        "\n",
        "\n",
        "**map()** : A new iterable (map object) with transformed elements.\n",
        "\n",
        "**filter()**: A new iterable (filter object) with filtered elements.\n",
        "\n",
        "**reduce() (from functools)** :A single value.\n",
        "\n",
        "\n",
        "# **Typical Use**\n",
        "\n",
        "**map()  :**Transforming data (e.g., squaring numbers).\n",
        "**filter():** Filtering data (e.g., keeping only even numbers).\n",
        "\n",
        "**reduce() (from functools) :** Aggregation (e.g., sum, product, max).\n",
        "\n"
      ],
      "metadata": {
        "id": "e8c_8IC4nBEc"
      }
    },
    {
      "cell_type": "code",
      "source": [
        "  # Example with all three\n",
        "from functools import reduce\n",
        "\n",
        "numbers = [1, 2, 3, 4, 5]\n",
        "\n",
        "# 1. map() → square each number\n",
        "squared = list(map(lambda x: x**2, numbers))\n",
        "print(\"map result:\", squared)\n",
        "# [1, 4, 9, 16, 25]\n",
        "\n",
        "# 2. filter() → keep only even numbers\n",
        "evens = list(filter(lambda x: x % 2 == 0, numbers))\n",
        "print(\"filter result:\", evens)\n",
        "# [2, 4]\n",
        "\n",
        "# 3. reduce() → calculate product of all numbers\n",
        "product = reduce(lambda x, y: x * y, numbers)\n",
        "print(\"reduce result:\", product)\n",
        "# 120\n"
      ],
      "metadata": {
        "colab": {
          "base_uri": "https://localhost:8080/"
        },
        "id": "y_ObGCk92WEt",
        "outputId": "c0af083e-25a5-4ac3-9930-2af3f36d0575"
      },
      "execution_count": null,
      "outputs": [
        {
          "output_type": "stream",
          "name": "stdout",
          "text": [
            "map result: [1, 4, 9, 16, 25]\n",
            "filter result: [2, 4]\n",
            "reduce result: 120\n"
          ]
        }
      ]
    },
    {
      "cell_type": "markdown",
      "source": [
        "map() → transform each element\n",
        "\n",
        "filter() → keep some elements based on condition\n",
        "\n",
        "reduce() → combine all elements into one result"
      ],
      "metadata": {
        "id": "Za_Kq-BQ2mzn"
      }
    },
    {
      "cell_type": "markdown",
      "source": [
        "# **11. Using pen & Paper write the internal mechanism for sum operation using  reduce function on this given**\n",
        "# list:[47,11,42,13]"
      ],
      "metadata": {
        "id": "-CGDhWah1GII"
      }
    },
    {
      "cell_type": "code",
      "source": [
        "from functools import reduce\n",
        "numbers = [47, 11, 42, 13]\n",
        "result = reduce(lambda x, y: x + y, numbers)\n",
        "\n",
        "# Answer attached differently for this question above in a seperate file"
      ],
      "metadata": {
        "id": "ysyb_XOA_Blt"
      },
      "execution_count": null,
      "outputs": []
    },
    {
      "cell_type": "markdown",
      "source": [
        "## **Answer attached differently for this question above in a seperate file **"
      ],
      "metadata": {
        "id": "YvytTAT7AH0r"
      }
    },
    {
      "cell_type": "markdown",
      "source": [
        "# **Practical Questions:**"
      ],
      "metadata": {
        "id": "n2MwVaMiAMjq"
      }
    },
    {
      "cell_type": "markdown",
      "source": [
        "# **1. Write a Python function that takes a list of numbers as input and returns the sum of all even numbers in**\n",
        "the list."
      ],
      "metadata": {
        "id": "Q-zE7L5vAb68"
      }
    },
    {
      "cell_type": "code",
      "source": [
        "def sum_even_numbers(numbers):\n",
        "    total = 0\n",
        "    for num in numbers:\n",
        "        if num % 2 == 0:  # Check if the number is even\n",
        "            total += num\n",
        "    return total\n",
        "\n",
        "  # Example usage:\n",
        "my_list = [1, 2, 3, 4, 5, 6]\n",
        "result = sum_even_numbers(my_list)\n",
        "print(\"Sum of even numbers:\", result)"
      ],
      "metadata": {
        "colab": {
          "base_uri": "https://localhost:8080/"
        },
        "id": "3ZNM7fZEA2rj",
        "outputId": "109614f9-f389-43b2-d089-c6f6cb2c2e36"
      },
      "execution_count": null,
      "outputs": [
        {
          "output_type": "stream",
          "name": "stdout",
          "text": [
            "Sum of even numbers: 12\n"
          ]
        }
      ]
    },
    {
      "cell_type": "markdown",
      "source": [
        "# **2. Create a Python function that accepts a string and returns the reverse of that string.**"
      ],
      "metadata": {
        "id": "FiMaWNpQAiuM"
      }
    },
    {
      "cell_type": "code",
      "source": [
        "def reverse_string(s):\n",
        "    return s[::-1]\n",
        "\n",
        "# Example usage:\n",
        "input_string = \"Hello Earth\"\n",
        "reversed_string = reverse_string(input_string)\n",
        "print(\"Reversed string:\", reversed_string)"
      ],
      "metadata": {
        "colab": {
          "base_uri": "https://localhost:8080/"
        },
        "id": "HrFZUZG-Bh6t",
        "outputId": "02b13a99-2112-40b8-9c62-08e94b194da8"
      },
      "execution_count": null,
      "outputs": [
        {
          "output_type": "stream",
          "name": "stdout",
          "text": [
            "Reversed string: htraE olleH\n"
          ]
        }
      ]
    },
    {
      "cell_type": "markdown",
      "source": [
        "s[::-1] uses Python slicing to reverse the string.\n",
        "\n",
        ": → take the whole string\n",
        "\n",
        "-1 → step backwards, effectively reversing it"
      ],
      "metadata": {
        "id": "xH5wAuUZB_cM"
      }
    },
    {
      "cell_type": "markdown",
      "source": [
        "# **3. Implement a Python function that takes a list of integers and returns a new list containing the squares of each number.**"
      ],
      "metadata": {
        "id": "ktL-0Wvbg160"
      }
    },
    {
      "cell_type": "code",
      "source": [
        "def square_list(numbers):\n",
        "    \"\"\"\n",
        "    Takes a list of integers and returns a new list\n",
        "    containing the squares of each number.\n",
        "    \"\"\"\n",
        "    return [num ** 2 for num in numbers]\n",
        "\n",
        "# Example usage\n",
        "nums = [1, 2, 3, 4, 5]\n",
        "print(square_list(nums))"
      ],
      "metadata": {
        "colab": {
          "base_uri": "https://localhost:8080/"
        },
        "id": "_y3bOghxhF93",
        "outputId": "c36d39ec-1b2d-4085-e1c7-fb99a007f286"
      },
      "execution_count": null,
      "outputs": [
        {
          "output_type": "stream",
          "name": "stdout",
          "text": [
            "[1, 4, 9, 16, 25]\n"
          ]
        }
      ]
    },
    {
      "cell_type": "markdown",
      "source": [
        "This uses list comprehension for clean and efficient code."
      ],
      "metadata": {
        "id": "oeyt7RSBhe9_"
      }
    },
    {
      "cell_type": "markdown",
      "source": [
        "# **4. Write a Python function that checks if a given number is prime or not from 1 to 200.**"
      ],
      "metadata": {
        "id": "_ulc_0VRhn7w"
      }
    },
    {
      "cell_type": "code",
      "source": [
        "def is_prime(num):\n",
        "    \"\"\"Check if a number is prime.\"\"\"\n",
        "    if num < 2:   # 0 and 1 are not prime\n",
        "        return False\n",
        "    for i in range(2, int(num**0.5) + 1):  # check divisibility up to sqrt(num)\n",
        "        if num % i == 0:\n",
        "            return False\n",
        "    return True\n",
        "\n",
        "# Check numbers from 1 to 200\n",
        "for n in range(1, 201):\n",
        "    if is_prime(n):\n",
        "        print(f\"{n} is a prime number\")\n",
        "    else:\n",
        "        print(f\"{n} is not a prime number\")"
      ],
      "metadata": {
        "colab": {
          "base_uri": "https://localhost:8080/"
        },
        "id": "E5un5IkYh3z0",
        "outputId": "b659a7ce-cac0-45a0-b0bc-cf901410c259"
      },
      "execution_count": null,
      "outputs": [
        {
          "output_type": "stream",
          "name": "stdout",
          "text": [
            "1 is not a prime number\n",
            "2 is a prime number\n",
            "3 is a prime number\n",
            "4 is not a prime number\n",
            "5 is a prime number\n",
            "6 is not a prime number\n",
            "7 is a prime number\n",
            "8 is not a prime number\n",
            "9 is not a prime number\n",
            "10 is not a prime number\n",
            "11 is a prime number\n",
            "12 is not a prime number\n",
            "13 is a prime number\n",
            "14 is not a prime number\n",
            "15 is not a prime number\n",
            "16 is not a prime number\n",
            "17 is a prime number\n",
            "18 is not a prime number\n",
            "19 is a prime number\n",
            "20 is not a prime number\n",
            "21 is not a prime number\n",
            "22 is not a prime number\n",
            "23 is a prime number\n",
            "24 is not a prime number\n",
            "25 is not a prime number\n",
            "26 is not a prime number\n",
            "27 is not a prime number\n",
            "28 is not a prime number\n",
            "29 is a prime number\n",
            "30 is not a prime number\n",
            "31 is a prime number\n",
            "32 is not a prime number\n",
            "33 is not a prime number\n",
            "34 is not a prime number\n",
            "35 is not a prime number\n",
            "36 is not a prime number\n",
            "37 is a prime number\n",
            "38 is not a prime number\n",
            "39 is not a prime number\n",
            "40 is not a prime number\n",
            "41 is a prime number\n",
            "42 is not a prime number\n",
            "43 is a prime number\n",
            "44 is not a prime number\n",
            "45 is not a prime number\n",
            "46 is not a prime number\n",
            "47 is a prime number\n",
            "48 is not a prime number\n",
            "49 is not a prime number\n",
            "50 is not a prime number\n",
            "51 is not a prime number\n",
            "52 is not a prime number\n",
            "53 is a prime number\n",
            "54 is not a prime number\n",
            "55 is not a prime number\n",
            "56 is not a prime number\n",
            "57 is not a prime number\n",
            "58 is not a prime number\n",
            "59 is a prime number\n",
            "60 is not a prime number\n",
            "61 is a prime number\n",
            "62 is not a prime number\n",
            "63 is not a prime number\n",
            "64 is not a prime number\n",
            "65 is not a prime number\n",
            "66 is not a prime number\n",
            "67 is a prime number\n",
            "68 is not a prime number\n",
            "69 is not a prime number\n",
            "70 is not a prime number\n",
            "71 is a prime number\n",
            "72 is not a prime number\n",
            "73 is a prime number\n",
            "74 is not a prime number\n",
            "75 is not a prime number\n",
            "76 is not a prime number\n",
            "77 is not a prime number\n",
            "78 is not a prime number\n",
            "79 is a prime number\n",
            "80 is not a prime number\n",
            "81 is not a prime number\n",
            "82 is not a prime number\n",
            "83 is a prime number\n",
            "84 is not a prime number\n",
            "85 is not a prime number\n",
            "86 is not a prime number\n",
            "87 is not a prime number\n",
            "88 is not a prime number\n",
            "89 is a prime number\n",
            "90 is not a prime number\n",
            "91 is not a prime number\n",
            "92 is not a prime number\n",
            "93 is not a prime number\n",
            "94 is not a prime number\n",
            "95 is not a prime number\n",
            "96 is not a prime number\n",
            "97 is a prime number\n",
            "98 is not a prime number\n",
            "99 is not a prime number\n",
            "100 is not a prime number\n",
            "101 is a prime number\n",
            "102 is not a prime number\n",
            "103 is a prime number\n",
            "104 is not a prime number\n",
            "105 is not a prime number\n",
            "106 is not a prime number\n",
            "107 is a prime number\n",
            "108 is not a prime number\n",
            "109 is a prime number\n",
            "110 is not a prime number\n",
            "111 is not a prime number\n",
            "112 is not a prime number\n",
            "113 is a prime number\n",
            "114 is not a prime number\n",
            "115 is not a prime number\n",
            "116 is not a prime number\n",
            "117 is not a prime number\n",
            "118 is not a prime number\n",
            "119 is not a prime number\n",
            "120 is not a prime number\n",
            "121 is not a prime number\n",
            "122 is not a prime number\n",
            "123 is not a prime number\n",
            "124 is not a prime number\n",
            "125 is not a prime number\n",
            "126 is not a prime number\n",
            "127 is a prime number\n",
            "128 is not a prime number\n",
            "129 is not a prime number\n",
            "130 is not a prime number\n",
            "131 is a prime number\n",
            "132 is not a prime number\n",
            "133 is not a prime number\n",
            "134 is not a prime number\n",
            "135 is not a prime number\n",
            "136 is not a prime number\n",
            "137 is a prime number\n",
            "138 is not a prime number\n",
            "139 is a prime number\n",
            "140 is not a prime number\n",
            "141 is not a prime number\n",
            "142 is not a prime number\n",
            "143 is not a prime number\n",
            "144 is not a prime number\n",
            "145 is not a prime number\n",
            "146 is not a prime number\n",
            "147 is not a prime number\n",
            "148 is not a prime number\n",
            "149 is a prime number\n",
            "150 is not a prime number\n",
            "151 is a prime number\n",
            "152 is not a prime number\n",
            "153 is not a prime number\n",
            "154 is not a prime number\n",
            "155 is not a prime number\n",
            "156 is not a prime number\n",
            "157 is a prime number\n",
            "158 is not a prime number\n",
            "159 is not a prime number\n",
            "160 is not a prime number\n",
            "161 is not a prime number\n",
            "162 is not a prime number\n",
            "163 is a prime number\n",
            "164 is not a prime number\n",
            "165 is not a prime number\n",
            "166 is not a prime number\n",
            "167 is a prime number\n",
            "168 is not a prime number\n",
            "169 is not a prime number\n",
            "170 is not a prime number\n",
            "171 is not a prime number\n",
            "172 is not a prime number\n",
            "173 is a prime number\n",
            "174 is not a prime number\n",
            "175 is not a prime number\n",
            "176 is not a prime number\n",
            "177 is not a prime number\n",
            "178 is not a prime number\n",
            "179 is a prime number\n",
            "180 is not a prime number\n",
            "181 is a prime number\n",
            "182 is not a prime number\n",
            "183 is not a prime number\n",
            "184 is not a prime number\n",
            "185 is not a prime number\n",
            "186 is not a prime number\n",
            "187 is not a prime number\n",
            "188 is not a prime number\n",
            "189 is not a prime number\n",
            "190 is not a prime number\n",
            "191 is a prime number\n",
            "192 is not a prime number\n",
            "193 is a prime number\n",
            "194 is not a prime number\n",
            "195 is not a prime number\n",
            "196 is not a prime number\n",
            "197 is a prime number\n",
            "198 is not a prime number\n",
            "199 is a prime number\n",
            "200 is not a prime number\n"
          ]
        }
      ]
    },
    {
      "cell_type": "markdown",
      "source": [
        "This function:\n",
        "\n",
        "Returns True if a number is prime.\n",
        "\n",
        "Returns False otherwise.\n",
        "\n",
        "Then we loop through numbers 1 to 200 and print whether each is prime or not"
      ],
      "metadata": {
        "id": "9pyeu9rMh7aW"
      }
    },
    {
      "cell_type": "markdown",
      "source": [
        "# **5. Create an iterator class in Python that generates the Fibonacci sequence up to a specified number of terms.**"
      ],
      "metadata": {
        "id": "wrMe7UjTiCbK"
      }
    },
    {
      "cell_type": "code",
      "source": [
        "class FibonacciIterator:\n",
        "    def __init__(self, num_terms):\n",
        "        self.num_terms = num_terms  # total terms to generate\n",
        "        self.count = 0              # counter for terms generated\n",
        "        self.a, self.b = 0, 1       # first two Fibonacci numbers\n",
        "\n",
        "    def __iter__(self):\n",
        "        return self\n",
        "\n",
        "    def __next__(self):\n",
        "        if self.count >= self.num_terms:\n",
        "            raise StopIteration  # stop when terms are exhausted\n",
        "        if self.count == 0:\n",
        "            self.count += 1\n",
        "            return self.a\n",
        "        elif self.count == 1:\n",
        "            self.count += 1\n",
        "            return self.b\n",
        "        else:\n",
        "            self.a, self.b = self.b, self.a + self.b\n",
        "            self.count += 1\n",
        "            return self.b\n",
        "\n",
        "\n",
        "# Example usage:\n",
        "fib = FibonacciIterator(10)\n",
        "for num in fib:\n",
        "    print(num, end=\" \")"
      ],
      "metadata": {
        "colab": {
          "base_uri": "https://localhost:8080/"
        },
        "id": "_s6DM00rihMD",
        "outputId": "3710ec30-9699-4213-bc06-03ecccf30f84"
      },
      "execution_count": null,
      "outputs": [
        {
          "output_type": "stream",
          "name": "stdout",
          "text": [
            "0 1 1 2 3 5 8 13 21 34 "
          ]
        }
      ]
    },
    {
      "cell_type": "markdown",
      "source": [
        "# **6. Write a generator function in Python that yields the powers of 2 up to a given**"
      ],
      "metadata": {
        "id": "3RiSXghjiwSR"
      }
    },
    {
      "cell_type": "code",
      "source": [
        "# Python generator function that yields the powers of 2 up to a given exponent:\n",
        "\n",
        "def powers_of_two(n):\n",
        "    \"\"\"Generator that yields powers of 2 from 2^0 up to 2^n.\"\"\"\n",
        "    for i in range(n + 1):\n",
        "        yield 2 ** i\n",
        "\n",
        "# Example usage:\n",
        "for value in powers_of_two(5):\n",
        "    print(value)"
      ],
      "metadata": {
        "colab": {
          "base_uri": "https://localhost:8080/"
        },
        "id": "WMIouxRXjAF1",
        "outputId": "c6386450-fcbd-4fb1-ff30-64853d930d43"
      },
      "execution_count": null,
      "outputs": [
        {
          "output_type": "stream",
          "name": "stdout",
          "text": [
            "1\n",
            "2\n",
            "4\n",
            "8\n",
            "16\n",
            "32\n"
          ]
        }
      ]
    },
    {
      "cell_type": "markdown",
      "source": [
        "# **7. Implement a generator function that reads a file line by line and yields each line as a string**"
      ],
      "metadata": {
        "id": "NeQVY1tnja4N"
      }
    },
    {
      "cell_type": "code",
      "source": [
        "\n",
        "def read_file_lines(filepath):\n",
        "    \"\"\"\n",
        "    A generator function that reads a file line by line and yields each line as a string.\n",
        "\n",
        "    Args:\n",
        "        filepath (str): The path to the file to be read.\n",
        "\n",
        "    Yields:\n",
        "        str: Each line from the file, including the newline character if present.\n",
        "    \"\"\"\n",
        "    try:\n",
        "        with open(filepath, 'r') as file:\n",
        "            for line in file:\n",
        "                yield line\n",
        "    except FileNotFoundError:\n",
        "        print(f\"Error: File not found at {filepath}\")\n",
        "    except Exception as e:\n",
        "        print(f\"An error occurred: {e}\")\n",
        "\n",
        "\n",
        "# 1. Create a dummy file for demonstration\n",
        "with open(\"sample.txt\", \"w\") as f:\n",
        "    f.write(\"This is line 1.\\n\")\n",
        "    f.write(\"This is line 2.\\n\")\n",
        "    f.write(\"This is line 3.\\n\")\n",
        "\n",
        "# 2. Use the generator function to read the file\n",
        "print(\"Reading 'sample.txt' using the generator:\")\n",
        "for line in read_file_lines(\"sample.txt\"):\n",
        "    print(line.strip())  # .strip() removes leading/trailing whitespace, including newline characters\n",
        "\n",
        "print(\"\\nReading a non-existent file:\")\n",
        "for line in read_file_lines(\"non_existent_file.txt\"):\n",
        "    print(line.strip())"
      ],
      "metadata": {
        "colab": {
          "base_uri": "https://localhost:8080/"
        },
        "id": "Hksk4Or6kF36",
        "outputId": "1b07fb01-3843-46ea-9d48-244beefa43df"
      },
      "execution_count": null,
      "outputs": [
        {
          "output_type": "stream",
          "name": "stdout",
          "text": [
            "Reading 'sample.txt' using the generator:\n",
            "This is line 1.\n",
            "This is line 2.\n",
            "This is line 3.\n",
            "\n",
            "Reading a non-existent file:\n",
            "Error: File not found at non_existent_file.txt\n"
          ]
        }
      ]
    },
    {
      "cell_type": "markdown",
      "source": [
        "# **8. Use a lambda function in Python to sort a list of tuples based on the second element of each tuple.**"
      ],
      "metadata": {
        "id": "gQuyFeXHnoRm"
      }
    },
    {
      "cell_type": "code",
      "source": [
        "# Sample list of tuples\n",
        "data = [(1, 5), (3, 1), (4, 6), (2, 3), (7, 2)]\n",
        "\n",
        "# Sort by second element of each tuple\n",
        "sorted_data = sorted(data, key=lambda x: x[1])\n",
        "\n",
        "print(sorted_data)"
      ],
      "metadata": {
        "colab": {
          "base_uri": "https://localhost:8080/"
        },
        "id": "qYFM1cQ-oIbr",
        "outputId": "c5d44180-ed64-420c-e7a0-205c8e6dd9e5"
      },
      "execution_count": 1,
      "outputs": [
        {
          "output_type": "stream",
          "name": "stdout",
          "text": [
            "[(3, 1), (7, 2), (2, 3), (1, 5), (4, 6)]\n"
          ]
        }
      ]
    },
    {
      "cell_type": "markdown",
      "source": [
        "**Explanation:**\n",
        "\n",
        "lambda x: x [1] → tells Python to use the second element of each tuple as the sorting key.\n",
        "\n",
        "sorted() → returns a new sorted list."
      ],
      "metadata": {
        "id": "8xf4ffFznvFJ"
      }
    },
    {
      "cell_type": "markdown",
      "source": [
        "# **9. Write a Python program that uses `map()` to convert a list of temperatures from Celsius to Fahrenheit.**"
      ],
      "metadata": {
        "id": "um-MI4mzJX0C"
      }
    },
    {
      "cell_type": "code",
      "source": [
        "# Function to convert Celsius to Fahrenheit\n",
        "def celsius_to_fahrenheit(celsius):\n",
        "    return (celsius * 9/5) + 32\n",
        "\n",
        "# List of temperatures in Celsius\n",
        "celsius_temps = [0, 20, 37, 100]\n",
        "\n",
        "# Use map() to convert to Fahrenheit\n",
        "fahrenheit_temps = list(map(celsius_to_fahrenheit, celsius_temps))\n",
        "\n",
        "# Print results\n",
        "print(\"Celsius:    \", celsius_temps)\n",
        "print(\"Fahrenheit: \", fahrenheit_temps)"
      ],
      "metadata": {
        "colab": {
          "base_uri": "https://localhost:8080/"
        },
        "id": "ane-66MdJi4e",
        "outputId": "f2da4e27-74c3-4087-f9fc-ea0ac3069155"
      },
      "execution_count": null,
      "outputs": [
        {
          "output_type": "stream",
          "name": "stdout",
          "text": [
            "Celsius:     [0, 20, 37, 100]\n",
            "Fahrenheit:  [32.0, 68.0, 98.6, 212.0]\n"
          ]
        }
      ]
    },
    {
      "cell_type": "markdown",
      "source": [
        "# **10. Create a Python program that uses `filter()` to remove all the vowels from a given string.**"
      ],
      "metadata": {
        "id": "MojqdYzsJqQI"
      }
    },
    {
      "cell_type": "code",
      "source": [
        "def remove_vowels(s):\n",
        "    vowels = \"aeiouAEIOU\"\n",
        "    # filter keeps only characters that are not vowels\n",
        "    result = ''.join(filter(lambda ch: ch not in vowels, s))\n",
        "    return result\n",
        "\n",
        "# Example usage\n",
        "text = \"Hello World\"\n",
        "print(\"Original String:\", text)\n",
        "print(\"Without Vowels:\", remove_vowels(text))\n"
      ],
      "metadata": {
        "colab": {
          "base_uri": "https://localhost:8080/"
        },
        "id": "qWUeTfvHJpud",
        "outputId": "935888f3-5d47-4bd6-e196-e125dad85d59"
      },
      "execution_count": null,
      "outputs": [
        {
          "output_type": "stream",
          "name": "stdout",
          "text": [
            "Original String: Hello World\n",
            "Without Vowels: Hll Wrld\n"
          ]
        }
      ]
    },
    {
      "cell_type": "markdown",
      "source": [
        "11) Imagine an accounting routine used in a book shop. It works on a list with sublists, which look like this:\n",
        "\n",
        "\n",
        "order no    quantity  price per item   book titel and autho\n",
        "\n",
        "34587          4         40.95          Learning Python mark Lutz\n",
        "98762          5         56.80          programming python MARK lutz\n",
        "77226          3         32.95          Head First python ,Paul Barry\n",
        "88112          3         24.99          einfuhrung in python3 bernd kein\n",
        "\n",
        "\n",
        "\n",
        "\n",
        "Write a Python program, which returns a list with 2-tuples. Each tuple consists of the order number and the\n",
        "product of the price per item and the quantity. The product should be increased by 10,- € if the value of the\n",
        "order is smaller than 100,00 €.\n",
        "\n",
        "Write a Python program using lambda and map **bold text**"
      ],
      "metadata": {
        "id": "VxnR3HKJJ7wq"
      }
    },
    {
      "cell_type": "code",
      "source": [
        "# List of orders\n",
        "orders = [\n",
        "    [34587, 4, 40.95, \"Learning Python mark Lutz\"],\n",
        "    [98762, 5, 56.80, \"programming python MARK lutz\"],\n",
        "    [77226, 3, 32.95, \"Head First python ,Paul Barry\"],\n",
        "    [88112, 3, 24.99, \"einfuhrung in python3 bernd kein\"]\n",
        "]\n",
        "\n",
        "# Using map and lambda to calculate total with condition\n",
        "result = list(map(lambda order: (order[0], order[1]*order[2] + 10 if order[1]*order[2] < 100 else order[1]*order[2]), orders))\n",
        "\n",
        "# Print the result\n",
        "print(result)"
      ],
      "metadata": {
        "colab": {
          "base_uri": "https://localhost:8080/"
        },
        "id": "qMn6xyk3J7Si",
        "outputId": "c5b4d22d-60f7-42db-fcfa-2c7d57cfb4b6"
      },
      "execution_count": null,
      "outputs": [
        {
          "output_type": "stream",
          "name": "stdout",
          "text": [
            "[(34587, 163.8), (98762, 284.0), (77226, 108.85000000000001), (88112, 84.97)]\n"
          ]
        }
      ]
    },
    {
      "cell_type": "markdown",
      "source": [
        "Notice that the last order gets an extra 10 € because 3 × 24.99 = 74.97 < 100 → 74.97 + 10 = 84.97."
      ],
      "metadata": {
        "id": "Aeq3uLQ3RLZ0"
      }
    },
    {
      "cell_type": "markdown",
      "source": [],
      "metadata": {
        "id": "xMcecw_tRPtz"
      }
    }
  ]
}